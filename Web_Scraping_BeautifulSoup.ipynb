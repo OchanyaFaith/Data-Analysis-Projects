{
  "nbformat": 4,
  "nbformat_minor": 0,
  "metadata": {
    "colab": {
      "name": "Untitled2.ipynb",
      "provenance": []
    },
    "kernelspec": {
      "name": "python3",
      "display_name": "Python 3"
    },
    "language_info": {
      "name": "python"
    }
  },
  "cells": [
    {
      "cell_type": "code",
      "execution_count": 39,
      "metadata": {
        "id": "7JSZoSzQJV_T"
      },
      "outputs": [],
      "source": [
        "from bs4 import BeautifulSoup\n",
        "import requests\n",
        "import re\n"
      ]
    },
    {
      "cell_type": "code",
      "source": [
        "url = \"https://nigeriapropertycentre.com/for-rent/flats-apartments/abuja/showtype\"\n",
        "page = requests.get(url)"
      ],
      "metadata": {
        "id": "k9RVE5REimpV"
      },
      "execution_count": 26,
      "outputs": []
    },
    {
      "cell_type": "code",
      "source": [
        "get_page = BeautifulSoup(page.content, 'html.parser')\n",
        "lists = get_page.find_all('div', class_ =\"wp-block-content\")\n",
        "for list in lists:\n",
        "  title=list.find('h4', class_=\"content-title\").string\n",
        "  address=list.find('address', class_=\"voffset-bottom-10\").text.replace('\\xa0',' ')\n",
        "  price=list.find('span', class_=\"pull-sm-left\").text.replace('\\n', ' ')\n",
        "  realtor=list.find('span', class_=\"marketed-by\").text.replace('\\n', '')\n",
        "  re.sub('[\\a-ZA-Z0-9]','', realtor)\n",
        "  data = [title,address,price,realtor]\n",
        "  print(data)\n"
      ],
      "metadata": {
        "colab": {
          "base_uri": "https://localhost:8080/"
        },
        "id": "nu8sWGhhimty",
        "outputId": "930dae54-6130-4713-8cb5-02f7a97aa19a"
      },
      "execution_count": 59,
      "outputs": [
        {
          "output_type": "stream",
          "name": "stdout",
          "text": [
            "['2 bedroom flat / apartment for rent', '  Phase 4, Gado Nasko Road, Kubwa, Abuja', ' ₦950,000 per annum ', 'Bluehedge Realtors \\xa0+2348177766110 ']\n",
            "['2 bedroom flat / apartment for rent', '  Brains And Hammers, Life Camp, Abuja', ' ₦1,500,000 per annum ', 'Ehiz Homes And Shelter Ltd Abuja \\xa009067408101 ']\n",
            "['2 bedroom flat / apartment for rent', '  Brains And Hammers Estate, Life Camp, Abuja', ' ₦1,350,000 per annum ', 'Ehiz Homes And Shelter Ltd Abuja \\xa009067408101 ']\n",
            "['3 bedroom flat / apartment for rent', '  Life Camp Abuja, Life Camp, Abuja', ' ₦2,000,000 per annum ', 'Ehiz Homes And Shelter Ltd Abuja \\xa009067408101 ']\n",
            "['3 bedroom flat / apartment for rent', '  Jahi, Abuja', ' ₦3,500,000 per annum ', 'Todah Link Procurement Resources Limited \\xa008091111131 ']\n",
            "['3 bedroom flat / apartment for rent', '  Jahi, Abuja', ' ₦2,800,000 per annum ', 'Todah Link Procurement Resources Limited \\xa008091111131 ']\n",
            "['2 bedroom flat / apartment for rent', '  Ushafa Extension, Ushafa, Bwari, Abuja', ' ₦1,050,000 per annum ', 'Revered Properties Enterprise \\xa008076597456 ']\n",
            "['3 bedroom flat / apartment for rent', '  By Efab Estate, Jabi, Abuja', ' ₦2,000,000 per annum ', 'Arenas Homes & Garden Developers Ltd \\xa0+2348154993573 ']\n",
            "['3 bedroom flat / apartment for rent', '  Life Camp, Abuja', ' ₦3,500,000 per annum ', 'Jide Taiwo And Co \\xa008067109582 ']\n",
            "['2 bedroom flat / apartment for rent', '  Kaniz Homes Estate, Karsana North, By Federal Housing, Kubwa, Abuja', ' ₦1,300,000 per annum ', 'Poly Real Estate Property \\xa009067665663 ']\n",
            "['4 bedroom flat / apartment for rent', '  Legislative Quarters, Apo, Abuja', ' ₦5,000,000 per annum ', 'Tyme Properties \\xa008081304075 ']\n",
            "['2 bedroom flat / apartment for rent', '  Off Aminu Kano Crescent, Wuse 2, Abuja', ' ₦4,500,000 per annum ', 'Amaze Glamour Bead \\xa007064925522 ']\n",
            "['3 bedroom flat / apartment for rent', '  Jahi, Abuja', ' ₦2,800,000 per annum ', 'Cemo And Associates Nig Ltd \\xa007036241996 ']\n",
            "['2 bedroom flat / apartment for rent', '  Life Camp, Abuja', ' ₦1,600,000 per annum ', 'Cemo And Associates Nig Ltd \\xa007036241996 ']\n",
            "['Self contain (single rooms) for rent', '  Saraha Estate After Azman Filling Station, Gwarinpa, Abuja', ' ₦650,000 per annum ', 'Poly Real Estate Property \\xa009067665663 ']\n",
            "['2 bedroom flat / apartment for rent', '  Life Camp, Abuja', ' ₦1,600,000 per annum ', 'El Muazu Ventures \\xa008106600637 ']\n",
            "['Self contain (single rooms) for rent', '  Saraha Estate After Azman Filling Station 6th Avenue, Gwarinpa, Abuja', ' ₦500,000 per annum ', 'Poly Real Estate Property \\xa009067665663 ']\n",
            "['Self contain (single rooms) for rent', '  6th Avenue, Gwarinpa, Abuja', ' ₦550,000 per annum ', 'Jje Mega Properties \\xa009031110281 ']\n",
            "['2 bedroom flat / apartment for rent', '  Life Camp, Abuja', ' ₦1,600,000 per annum ', 'Bebia Bebia & Associates \\xa008094342506 ']\n",
            "['1 bedroom mini flat (room and parlour) for rent', '  Katampe (Main), Katampe, Abuja', ' ₦1,000,000 per annum ', 'Bridan Global Integrated Resources Ltd \\xa009137133701 ']\n"
          ]
        }
      ]
    },
    {
      "cell_type": "code",
      "source": [
        ""
      ],
      "metadata": {
        "id": "Gkq_vLZ6imwy"
      },
      "execution_count": null,
      "outputs": []
    },
    {
      "cell_type": "code",
      "source": [
        ""
      ],
      "metadata": {
        "id": "lxPHss47t3pu"
      },
      "execution_count": null,
      "outputs": []
    },
    {
      "cell_type": "code",
      "source": [
        ""
      ],
      "metadata": {
        "id": "E8wqLjgrt3ur"
      },
      "execution_count": null,
      "outputs": []
    },
    {
      "cell_type": "code",
      "source": [
        ""
      ],
      "metadata": {
        "id": "8J0tcc4Ct3zO"
      },
      "execution_count": null,
      "outputs": []
    },
    {
      "cell_type": "code",
      "source": [
        ""
      ],
      "metadata": {
        "id": "GQ0T16hmt32s"
      },
      "execution_count": null,
      "outputs": []
    }
  ]
}